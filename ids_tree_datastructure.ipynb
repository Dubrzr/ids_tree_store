{
 "cells": [
  {
   "cell_type": "markdown",
   "id": "4f3883d6-6a6c-4b78-ac76-3b3354671331",
   "metadata": {},
   "source": [
    "### Reformat docRef_ids file"
   ]
  },
  {
   "cell_type": "code",
   "execution_count": 1,
   "id": "ed7b8eeb-4377-43bb-962f-18a15f71b7cc",
   "metadata": {
    "tags": []
   },
   "outputs": [
    {
     "name": "stdout",
     "output_type": "stream",
     "text": [
      "10000000\n",
      "20000000\n",
      "30000000\n",
      "40000000\n",
      "50000000\n",
      "60000000\n",
      "70000000\n",
      "80000000\n",
      "90000000\n",
      "100000000\n",
      "Finished! Inserted 102563617 lines\n"
     ]
    }
   ],
   "source": [
    "import re\n",
    "\n",
    "pattern = re.compile(r'\"(\\d*)\"')\n",
    "\n",
    "i = 0\n",
    "with open(\"docRef_ids_clean\", \"w+\") as wf:\n",
    "    with open(\"docRef_ids\", 'r') as rf:\n",
    "        for line in rf:\n",
    "            match = pattern.search(line)\n",
    "            if match:\n",
    "                wf.writelines([match.group(1) + '\\n'])\n",
    "                i += 1\n",
    "                if i % 10000000 == 0:\n",
    "                    print(i)\n",
    "print(f\"Finished! Inserted {i} lines\")"
   ]
  },
  {
   "cell_type": "markdown",
   "id": "261a23dd-514c-4d24-991e-1bffbf98c778",
   "metadata": {},
   "source": [
    "### Create data structure"
   ]
  },
  {
   "cell_type": "code",
   "execution_count": 1,
   "id": "d4a1d2d0-67a2-4514-a3e5-7928b08782c3",
   "metadata": {},
   "outputs": [],
   "source": [
    "from __future__ import annotations\n",
    "\n",
    "import bisect\n",
    "import zlib\n",
    "import sys\n",
    "\n",
    "\n",
    "class Node:\n",
    "    def __init__(self, value=None):\n",
    "        self.value = value\n",
    "        self.children = {}\n",
    "        self.children_leaf = []\n",
    "\n",
    "    def add_child(self, value):\n",
    "        i = value[0]\n",
    "        l = len(value)\n",
    "        if l == 1:\n",
    "            bisect.insort(self.children_leaf, i)\n",
    "        elif not i in self.children:\n",
    "            self.children[i] = Node(i)\n",
    "        if l > 1:\n",
    "            self.children[i].add_child(value[1:])\n",
    "\n",
    "    def __str__(self, level=0):\n",
    "        result = \" \" * level + '|-' + str(self.value) + '\\n'\n",
    "        for e in self.children_leaf:\n",
    "            result += \" \" * (level + 1) + '#-' + str(e) + '\\n'\n",
    "        for k, node in self.children.items():\n",
    "            result += node.__str__(level + 1)\n",
    "        return result\n",
    "\n",
    "    def size(self):\n",
    "        return sys.getsizeof(self) + sum([c.size() for c in self.children.values()])\n",
    "\n",
    "    def count(self):\n",
    "        return 1 + sum([c.count() for c in self.children.values()])\n",
    "\n",
    "    def to_id_list(self):\n",
    "        result = []\n",
    "        for cl in self.children_leaf:\n",
    "            result.append((self.value if self.value else '') + cl)\n",
    "        for k, v in self.children.items():\n",
    "            result += [(self.value if self.value else '') + e for e in v.to_id_list()]\n",
    "        return result\n",
    "    \n",
    "    def to_string_id_list(self, separator=','):\n",
    "        result = ''\n",
    "        for cl in self.children_leaf:\n",
    "            result += (self.value if self.value else '') + cl + separator\n",
    "        for k, v in self.children.items():\n",
    "            for e in v.to_id_list():\n",
    "                result += (self.value if self.value else '') + e + separator\n",
    "        return result        \n",
    "\n",
    "    def to_string(self):\n",
    "        result = str(self.value) if self.value else ''\n",
    "        tmp = ','.join(list(self.children_leaf) + [v.to_string() for v in self.children.values()])\n",
    "        if tmp:\n",
    "            result = result + '(' + tmp + ')'\n",
    "        return result\n",
    "\n",
    "    def from_string(self, string: str, string_len, pos=0):\n",
    "        if string_len == pos:\n",
    "            return pos\n",
    "        number = string[pos + 1]\n",
    "        following_char = string[pos + 2]\n",
    "        if following_char == ')':\n",
    "            self.children_leaf.append(number)\n",
    "            return pos + 2\n",
    "\n",
    "        if following_char == ',':\n",
    "            self.children_leaf.append(number)\n",
    "            return self.from_string(string, string_len, pos + 2)\n",
    "\n",
    "        if following_char == '(':\n",
    "            node = Node(number)\n",
    "            self.children[number] = node\n",
    "            tmp_pos = node.from_string(string, string_len, pos + 2)\n",
    "            if tmp_pos < string_len:\n",
    "                if string[tmp_pos+1] == ',':\n",
    "                    return self.from_string(string, string_len, tmp_pos+1)\n",
    "                return tmp_pos\n",
    "\n",
    "    def to_compressed_string(self, encoding='utf-8') -> bytes:\n",
    "        return zlib.compress(self.to_string().encode(encoding))\n",
    "\n",
    "    def from_compressed_string(string: bytes, encoding='utf-8') -> Node:\n",
    "        tmp = zlib.decompress(string).decode(encoding)\n",
    "        tmp_len = len(tmp)\n",
    "        node = Node()\n",
    "        node.from_string(tmp, tmp_len)\n",
    "        return node"
   ]
  },
  {
   "cell_type": "markdown",
   "id": "e5b0c5e1-bb85-4eaf-9ca2-2c4ccd20a5ab",
   "metadata": {},
   "source": [
    "#### Some tests on the tree data structure"
   ]
  },
  {
   "cell_type": "code",
   "execution_count": 2,
   "id": "2be358b7-fef6-4975-9712-873babc25faf",
   "metadata": {},
   "outputs": [
    {
     "name": "stdout",
     "output_type": "stream",
     "text": [
      "|-None\n",
      " |-1\n",
      "  #-2\n",
      "  |-2\n",
      "   |-3\n",
      "    |-4\n",
      "     #-1\n",
      "     #-3\n",
      "     #-5\n",
      "     #-6\n",
      "     #-8\n",
      "     #-9\n",
      "     |-5\n",
      "      #-6\n",
      "     |-3\n",
      "      #-7\n",
      "\n",
      "['12', '12341', '12343', '12345', '12346', '12348', '12349', '123456', '123437']\n",
      "Tree repr: (1(2,2(3(4(1,3,5,6,8,9,5(6),3(7))))))\n",
      "Repr size=86\n",
      "Compressed repr size=74\n",
      "(1(2,2(3(4(1,3,5,6,8,9,5(6),3(7))))))\n",
      "True\n",
      "12,12341,12343,12345,12346,12348,12349,123456,123437,\n"
     ]
    }
   ],
   "source": [
    "tree = Node()\n",
    "tree.add_child(\"123456\")\n",
    "tree.add_child(\"12346\")\n",
    "tree.add_child(\"12349\")\n",
    "tree.add_child(\"12348\")\n",
    "tree.add_child(\"12345\")\n",
    "tree.add_child(\"12343\")\n",
    "tree.add_child(\"123437\")\n",
    "tree.add_child(\"12341\")\n",
    "tree.add_child(\"12\")\n",
    "print(tree)\n",
    "print(tree.to_id_list())\n",
    "print(\"Tree repr: \" + tree.to_string())\n",
    "print(\"Repr size=\" + str(sys.getsizeof(tree.to_string())))\n",
    "print(\"Compressed repr size=\" + str(sys.getsizeof(tree.to_compressed_string())))\n",
    "tree = Node.from_compressed_string(tree.to_compressed_string())\n",
    "print(tree.to_string())\n",
    "ids = tree.to_id_list()\n",
    "other_tree = Node()\n",
    "for id in ids:\n",
    "    other_tree.add_child(id)\n",
    "print(ids == other_tree.to_id_list())\n",
    "print(tree.to_string_id_list())"
   ]
  },
  {
   "cell_type": "markdown",
   "id": "8d5bfc40-9b72-4107-b8e0-0a65c29f7ae5",
   "metadata": {},
   "source": [
    "### Import 10 millions ids in the tree"
   ]
  },
  {
   "cell_type": "code",
   "execution_count": 3,
   "id": "bfc7409d-5d5f-47a6-b3c5-216ec4d5ccf0",
   "metadata": {},
   "outputs": [],
   "source": [
    "tree = Node()\n",
    "i = 0\n",
    "tmp = [] # for comparision store in a list\n",
    "\n",
    "from datetime import datetime, timedelta\n",
    "\n",
    "add_child_time = timedelta(0)\n",
    "with open(\"docRef_ids_clean\", \"r\") as f:\n",
    "    for line in f:\n",
    "        a = datetime.now()\n",
    "        tree.add_child(line[:-1])\n",
    "        add_child_time += datetime.now()-a\n",
    "        tmp.append(line[:-1])\n",
    "        i += 1\n",
    "        if i % 10000000 == 0:\n",
    "            break"
   ]
  },
  {
   "cell_type": "code",
   "execution_count": 4,
   "id": "64731108-883d-41ff-8133-872cccbd12fa",
   "metadata": {},
   "outputs": [
    {
     "name": "stdout",
     "output_type": "stream",
     "text": [
      "\n",
      "Times :\n",
      "  * add_child_time=74.364375s (mean=7.4364375e-06s per added id)\n",
      "\n"
     ]
    }
   ],
   "source": [
    "print(f\"\"\"\n",
    "Times :\n",
    "  * add_child_time={add_child_time.total_seconds()}s (mean={add_child_time.total_seconds()/i}s per added id)\n",
    "\"\"\")"
   ]
  },
  {
   "cell_type": "markdown",
   "id": "318b0ec7-5f95-44e5-89f6-ae421590a94c",
   "metadata": {},
   "source": [
    "### export and import from string/compressed string"
   ]
  },
  {
   "cell_type": "code",
   "execution_count": 6,
   "id": "321fbe97-ef0d-4ebf-9bfe-f6fb4ee5e76a",
   "metadata": {},
   "outputs": [
    {
     "name": "stdout",
     "output_type": "stream",
     "text": [
      "\n",
      "Times :\n",
      "  * to_string_time=4.833165s (mean=4.833165e-07s)\n",
      "  * from_string_time=0.000193s (mean=1.93e-11s)\n",
      "  * to_compressed_string_time=5.808068s (mean=5.808067999999999e-07s)\n",
      "  * from_compressed_string_time=0.079834s (mean=7.9834e-09s)\n",
      "  * to_id_list_time=18.700069s (mean=1.8700069e-06s)\n",
      "  * to_string_id_list_time=20.862333s (mean=2.0862333e-06s)\n",
      "\n",
      "\n",
      "For 10000000 IDs :\n",
      "  * len(list)=10000000\n",
      "  * len(id_list)=10000000\n",
      "  * list == id_list = True\n",
      "  * sizeof(list)=81528064\n",
      "  * sizeof(id_list)=90000120\n",
      "  * tree.count()=3288635\n",
      "  * tree.size()=210472640\n",
      "  * sizeof(tree.to_string())=29865952\n",
      "  * sizeof(tree.to_compressed_string())=3891021 (ratio compared to list=20x smaller)\n"
     ]
    }
   ],
   "source": [
    "a = datetime.now()\n",
    "to_string = tree.to_string()\n",
    "to_string_time = datetime.now()-a\n",
    "\n",
    "a = datetime.now()\n",
    "an_other_tree = Node()\n",
    "from_string = an_other_tree.from_string(to_string, len(to_string))\n",
    "from_string_time = datetime.now()-a\n",
    "\n",
    "a = datetime.now()\n",
    "to_compressed_string = tree.to_compressed_string()\n",
    "to_compressed_string_time = datetime.now()-a\n",
    "\n",
    "a = datetime.now()\n",
    "from_compressed_string = Node.from_compressed_string(to_compressed_string)\n",
    "from_compressed_string_time = datetime.now()-a\n",
    "\n",
    "a = datetime.now()\n",
    "to_id_list = tree.to_id_list()\n",
    "to_id_list_time = datetime.now()-a\n",
    "\n",
    "a = datetime.now()\n",
    "to_string_id_list = tree.to_string_id_list()\n",
    "to_string_id_list_time = datetime.now()-a\n",
    "\n",
    "print(f\"\"\"\n",
    "Times :\n",
    "  * to_string_time={to_string_time.total_seconds()}s (mean={to_string_time.total_seconds()/i}s)\n",
    "  * from_string_time={from_string_time.total_seconds()}s (mean={from_string_time.total_seconds()/i}s)\n",
    "  * to_compressed_string_time={to_compressed_string_time.total_seconds()}s (mean={to_compressed_string_time.total_seconds()/i}s)\n",
    "  * from_compressed_string_time={from_compressed_string_time.total_seconds()}s (mean={from_compressed_string_time.total_seconds()/i}s)\n",
    "  * to_id_list_time={to_id_list_time.total_seconds()}s (mean={to_id_list_time.total_seconds()/i}s)\n",
    "  * to_string_id_list_time={to_string_id_list_time.total_seconds()}s (mean={to_string_id_list_time.total_seconds()/i}s)\n",
    "\"\"\")\n",
    "            \n",
    "            \n",
    "print(f\"\"\"\n",
    "For {i} IDs :\n",
    "  * len(list)={len(tmp)}\n",
    "  * len(id_list)={len(to_id_list)}\n",
    "  * list == id_list = {sorted(tmp) == sorted(to_id_list)}\n",
    "  * sizeof(list)={sys.getsizeof(tmp)}\n",
    "  * sizeof(id_list)={sys.getsizeof(to_id_list)}\n",
    "  * tree.count()={tree.count()}\n",
    "  * tree.size()={tree.size()}\n",
    "  * sizeof(tree.to_string())={sys.getsizeof(to_string)}\n",
    "  * sizeof(tree.to_compressed_string())={sys.getsizeof(to_compressed_string)} (ratio compared to list={int(sys.getsizeof(tmp)/sys.getsizeof(to_compressed_string))}x smaller)\"\"\")"
   ]
  }
 ],
 "metadata": {
  "kernelspec": {
   "display_name": "Python 3",
   "language": "python",
   "name": "python3"
  },
  "language_info": {
   "codemirror_mode": {
    "name": "ipython",
    "version": 3
   },
   "file_extension": ".py",
   "mimetype": "text/x-python",
   "name": "python",
   "nbconvert_exporter": "python",
   "pygments_lexer": "ipython3",
   "version": "3.7.8"
  }
 },
 "nbformat": 4,
 "nbformat_minor": 5
}
